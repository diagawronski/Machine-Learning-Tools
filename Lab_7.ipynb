{
  "nbformat": 4,
  "nbformat_minor": 0,
  "metadata": {
    "colab": {
      "provenance": []
    },
    "kernelspec": {
      "name": "python3",
      "display_name": "Python 3"
    },
    "language_info": {
      "name": "python"
    }
  },
  "cells": [
    {
      "cell_type": "markdown",
      "source": [
        "# 1.) Import an asset price from Yahoo Finance"
      ],
      "metadata": {
        "id": "6dJuZDx9qWeM"
      }
    },
    {
      "cell_type": "code",
      "source": [
        "pip install yfinance"
      ],
      "metadata": {
        "colab": {
          "base_uri": "https://localhost:8080/"
        },
        "id": "kogTdxxqVRvP",
        "outputId": "f3ba234b-c60c-4aaa-fa1b-5c5e00d9ef07"
      },
      "execution_count": null,
      "outputs": [
        {
          "output_type": "stream",
          "name": "stdout",
          "text": [
            "Looking in indexes: https://pypi.org/simple, https://us-python.pkg.dev/colab-wheels/public/simple/\n",
            "Requirement already satisfied: yfinance in /usr/local/lib/python3.8/dist-packages (0.2.12)\n",
            "Requirement already satisfied: appdirs>=1.4.4 in /usr/local/lib/python3.8/dist-packages (from yfinance) (1.4.4)\n",
            "Requirement already satisfied: pytz>=2022.5 in /usr/local/lib/python3.8/dist-packages (from yfinance) (2022.7.1)\n",
            "Requirement already satisfied: html5lib>=1.1 in /usr/local/lib/python3.8/dist-packages (from yfinance) (1.1)\n",
            "Requirement already satisfied: lxml>=4.9.1 in /usr/local/lib/python3.8/dist-packages (from yfinance) (4.9.2)\n",
            "Requirement already satisfied: numpy>=1.16.5 in /usr/local/lib/python3.8/dist-packages (from yfinance) (1.22.4)\n",
            "Requirement already satisfied: cryptography>=3.3.2 in /usr/local/lib/python3.8/dist-packages (from yfinance) (39.0.1)\n",
            "Requirement already satisfied: beautifulsoup4>=4.11.1 in /usr/local/lib/python3.8/dist-packages (from yfinance) (4.11.2)\n",
            "Requirement already satisfied: requests>=2.26 in /usr/local/lib/python3.8/dist-packages (from yfinance) (2.28.2)\n",
            "Requirement already satisfied: pandas>=1.3.0 in /usr/local/lib/python3.8/dist-packages (from yfinance) (1.3.5)\n",
            "Requirement already satisfied: frozendict>=2.3.4 in /usr/local/lib/python3.8/dist-packages (from yfinance) (2.3.5)\n",
            "Requirement already satisfied: multitasking>=0.0.7 in /usr/local/lib/python3.8/dist-packages (from yfinance) (0.0.11)\n",
            "Requirement already satisfied: soupsieve>1.2 in /usr/local/lib/python3.8/dist-packages (from beautifulsoup4>=4.11.1->yfinance) (2.4)\n",
            "Requirement already satisfied: cffi>=1.12 in /usr/local/lib/python3.8/dist-packages (from cryptography>=3.3.2->yfinance) (1.15.1)\n",
            "Requirement already satisfied: webencodings in /usr/local/lib/python3.8/dist-packages (from html5lib>=1.1->yfinance) (0.5.1)\n",
            "Requirement already satisfied: six>=1.9 in /usr/local/lib/python3.8/dist-packages (from html5lib>=1.1->yfinance) (1.15.0)\n",
            "Requirement already satisfied: python-dateutil>=2.7.3 in /usr/local/lib/python3.8/dist-packages (from pandas>=1.3.0->yfinance) (2.8.2)\n",
            "Requirement already satisfied: certifi>=2017.4.17 in /usr/local/lib/python3.8/dist-packages (from requests>=2.26->yfinance) (2022.12.7)\n",
            "Requirement already satisfied: idna<4,>=2.5 in /usr/local/lib/python3.8/dist-packages (from requests>=2.26->yfinance) (2.10)\n",
            "Requirement already satisfied: charset-normalizer<4,>=2 in /usr/local/lib/python3.8/dist-packages (from requests>=2.26->yfinance) (3.0.1)\n",
            "Requirement already satisfied: urllib3<1.27,>=1.21.1 in /usr/local/lib/python3.8/dist-packages (from requests>=2.26->yfinance) (1.26.14)\n",
            "Requirement already satisfied: pycparser in /usr/local/lib/python3.8/dist-packages (from cffi>=1.12->cryptography>=3.3.2->yfinance) (2.21)\n"
          ]
        }
      ]
    },
    {
      "cell_type": "code",
      "source": [
        "import yfinance as yf\n",
        "import numpy as np\n",
        "import pandas as pd\n",
        "from sklearn.preprocessing import MinMaxScaler\n",
        "from tensorflow.keras.models import Sequential\n",
        "from tensorflow.keras.layers import Dense, LSTM, Dropout\n",
        "from sklearn.metrics import accuracy_score, mean_squared_error\n",
        "import matplotlib.pyplot as plt\n",
        "import warnings\n",
        "warnings.filterwarnings(\"ignore\")"
      ],
      "metadata": {
        "id": "AeaFTogmaHQ8"
      },
      "execution_count": null,
      "outputs": []
    },
    {
      "cell_type": "code",
      "execution_count": null,
      "metadata": {
        "colab": {
          "base_uri": "https://localhost:8080/"
        },
        "id": "Y3bcwJb4rp93",
        "outputId": "9cbb74be-fb6c-47f9-9743-440432c20b2a"
      },
      "outputs": [
        {
          "output_type": "stream",
          "name": "stdout",
          "text": [
            "\r[*********************100%***********************]  1 of 1 completed\n"
          ]
        }
      ],
      "source": [
        "########################################\n",
        "####Pick your ticker and time period####\n",
        "########################################\n",
        "# Apple from 2002 to 2022\n",
        "data = yf.download(\"AAPL\", start=\"2002-01-01\", end=\"2022-02-21\")\n",
        "\n",
        "# Preprocess data\n",
        "scaled_data = np.array(data[\"Close\"].pct_change().dropna()).reshape(-1,1)\n",
        "\n",
        "# Split data into training and test sets\n",
        "train = int(len(scaled_data) * 0.8)\n",
        "train_data = scaled_data[0:train, :]\n"
      ]
    },
    {
      "cell_type": "markdown",
      "source": [
        "# 2.) Create your x_train/y_train data so that your RNN uses percentage change data to make a binary forecast where the stock moves up or down the next day\n",
        "# Build an RNN Architecture accordingly"
      ],
      "metadata": {
        "id": "foHoGy9hq3_o"
      }
    },
    {
      "cell_type": "code",
      "source": [
        "# Create training data\n",
        "x_train = []\n",
        "y_train = []\n",
        "\n",
        "#############################################################\n",
        "####Pick your input size and edit to make binary forecast####\n",
        "#############################################################\n",
        "input_size = 10\n",
        "for i in range(input_size, len(train_data)):\n",
        "    x_train.append(train_data[i-input_size:i, 0])\n",
        "    if train_data[i, 0] > 0:\n",
        "        y_train.append(1)\n",
        "    else:\n",
        "        y_train.append(0)\n",
        "\n",
        "x_train = np.array(x_train)\n",
        "y_train = np.array(y_train)\n",
        "x_train = np.reshape(x_train, (x_train.shape[0], x_train.shape[1], 1))\n",
        "\n",
        "###################################\n",
        "####Build Your RNN Architecture####\n",
        "###################################\n",
        "model = Sequential()\n",
        "model.add(LSTM(x_train.shape[1], return_sequences=True, input_shape=(x_train.shape[1], 1)))\n",
        "model.add(LSTM(50, return_sequences=False))\n",
        "model.add(Dense(25))\n",
        "model.add(Dense(1, activation='sigmoid'))\n",
        "model.compile(optimizer='adam', loss='mean_squared_error')\n",
        "\n",
        "# Train the model\n",
        "model.fit(x_train, y_train, batch_size=1, epochs=3)"
      ],
      "metadata": {
        "id": "5qGFB5HfqcVd",
        "colab": {
          "base_uri": "https://localhost:8080/"
        },
        "outputId": "cdcfef5a-6dc3-4dfa-ef56-bb97e819cbb3"
      },
      "execution_count": null,
      "outputs": [
        {
          "output_type": "stream",
          "name": "stdout",
          "text": [
            "Epoch 1/3\n",
            "4045/4045 [==============================] - 43s 10ms/step - loss: 0.2501\n",
            "Epoch 2/3\n",
            "4045/4045 [==============================] - 33s 8ms/step - loss: 0.2500\n",
            "Epoch 3/3\n",
            "4045/4045 [==============================] - 30s 7ms/step - loss: 0.2498\n"
          ]
        },
        {
          "output_type": "execute_result",
          "data": {
            "text/plain": [
              "<keras.callbacks.History at 0x7febc49afdc0>"
            ]
          },
          "metadata": {},
          "execution_count": 8
        }
      ]
    },
    {
      "cell_type": "markdown",
      "source": [
        "# 3.) Test your model and compare insample Accurracy, insample random walk assumption Accuracy, Out of sample Accuracy and out of sample random walk assumption Accuracy using a bar chart"
      ],
      "metadata": {
        "id": "yFhO9vMjsWPk"
      }
    },
    {
      "cell_type": "code",
      "source": [
        "test_data = scaled_data[training_data_len - input_size:, :]\n",
        "\n",
        "x_test = []\n",
        "y_test = np.array(stock_data[[\"Close\"]].pct_change().dropna())[training_data_len:, :]\n",
        "for i in range(input_size, len(test_data)):\n",
        "    x_test.append(test_data[i-input_size:i, 0])\n",
        "\n",
        "x_test = np.array(x_test)\n",
        "x_test = np.reshape(x_test, (x_test.shape[0], x_test.shape[1], 1))\n",
        "\n",
        "predictions = model.predict(x_test)"
      ],
      "metadata": {
        "id": "r1Xj6Ji-rwnM",
        "colab": {
          "base_uri": "https://localhost:8080/"
        },
        "outputId": "8fe9d6ee-8ba3-4d2b-f9ee-36e612f44da9"
      },
      "execution_count": null,
      "outputs": [
        {
          "output_type": "stream",
          "name": "stdout",
          "text": [
            "32/32 [==============================] - 1s 3ms/step\n"
          ]
        }
      ]
    },
    {
      "cell_type": "code",
      "source": [
        "from sklearn.preprocessing import MinMaxScaler\n",
        "\n",
        "scaler = MinMaxScaler(feature_range=(0, 1))\n",
        "scaler.fit(train_data)\n",
        "\n",
        "predictions = scaler.inverse_transform(predictions)\n",
        "y_test = scaler.inverse_transform(y_test.reshape(-1, 1))"
      ],
      "metadata": {
        "id": "35O_7b3iX1cX"
      },
      "execution_count": null,
      "outputs": []
    },
    {
      "cell_type": "code",
      "source": [
        "train_pred = model.predict(x_train)\n",
        "train_pred = (train_pred > 0.5)\n",
        "in_sample_acc = accuracy_score(y_train, train_pred)\n",
        "\n",
        "y_train_rw = np.roll(y_train, 1)\n",
        "y_train_rw[0] = 0\n",
        "in_sample_rw_acc = accuracy_score(y_train, y_train_rw)"
      ],
      "metadata": {
        "id": "ZP_GJ8X-Wkln",
        "colab": {
          "base_uri": "https://localhost:8080/"
        },
        "outputId": "4cf81274-382a-4996-b141-1ed40b7a07ae"
      },
      "execution_count": null,
      "outputs": [
        {
          "output_type": "stream",
          "name": "stdout",
          "text": [
            "127/127 [==============================] - 1s 4ms/step\n"
          ]
        }
      ]
    },
    {
      "cell_type": "code",
      "source": [
        "# Make predictions on the test data\n",
        "predictions = model.predict(x_test)\n",
        "\n",
        "# Invert the scaling for the predictions and actual prices\n",
        "predictions = scaler.inverse_transform(predictions)\n",
        "y_test = scaler.inverse_transform(y_test.reshape(-1, 1))\n",
        "\n",
        "# Calculate the MSE\n",
        "mse = mean_squared_error(y_test, predictions)\n",
        "print('MSE:', mse)"
      ],
      "metadata": {
        "colab": {
          "base_uri": "https://localhost:8080/"
        },
        "id": "pdjfNv5HaZEV",
        "outputId": "40b29464-63d6-46f6-a4d2-225bddba4304"
      },
      "execution_count": null,
      "outputs": [
        {
          "output_type": "stream",
          "name": "stdout",
          "text": [
            "32/32 [==============================] - 0s 4ms/step\n",
            "MSE: 0.048737875748832156\n"
          ]
        }
      ]
    },
    {
      "cell_type": "code",
      "source": [
        "# Computing the out-of-sample random walk assumption accuracy using MAE and RMSE\n",
        "y_test_rw = np.roll(y_test, 1)\n",
        "y_test_rw[0] = 0\n",
        "\n",
        "mae_rw = np.mean(np.abs(y_test - y_test_rw))\n",
        "rmse_rw = np.sqrt(np.mean(np.square(y_test - y_test_rw)))\n",
        "\n",
        "print('Out-of-sample RW assumption MAE:', mae_rw)\n",
        "print('Out-of-sample RW assumption RMSE:', rmse_rw)"
      ],
      "metadata": {
        "colab": {
          "base_uri": "https://localhost:8080/"
        },
        "id": "uBoHxwWraZ7U",
        "outputId": "aec77811-d794-4074-9d37-87ec8ef232a9"
      },
      "execution_count": null,
      "outputs": [
        {
          "output_type": "stream",
          "name": "stdout",
          "text": [
            "Out-of-sample RW assumption MAE: 0.002396439510224997\n",
            "Out-of-sample RW assumption RMSE: 0.007945786009086589\n"
          ]
        }
      ]
    },
    {
      "cell_type": "code",
      "source": [
        "# in-sample accuracy\n",
        "in_sample_acc = model.evaluate(x_train, y_train, verbose=0)\n",
        "\n",
        "#  out-of-sample accuracy\n",
        "out_sample_acc = model.evaluate(x_test, y_test, verbose=0)\n",
        "\n",
        "#  out-of-sample random walk assumption accuracy using MAE and RMSE\n",
        "y_test_rw = np.roll(y_test, 1)\n",
        "y_test_rw[0] = 0\n",
        "\n",
        "mae_rw_test = np.mean(np.abs(y_test - y_test_rw))\n",
        "rmse_rw_test = np.sqrt(np.mean(np.square(y_test - y_test_rw)))\n",
        "\n",
        "# Finally, a bar chart to compare the accuracies\n",
        "labels = ['In-sample accuracy', 'In-sample RW assumption MAE', 'In-sample RW assumption RMSE',\n",
        "          'Out-of-sample RW assumption MAE', 'Out-of-sample RW assumption RMSE']\n",
        "values = [in_sample_acc, in_sample_rw_acc, rmse_rw, mae_rw, rmse_rw_test]\n",
        "\n",
        "plt.figure(figsize=(30, 15))\n",
        "plt.bar(labels, values)\n",
        "plt.ylabel('Accuracy')\n",
        "plt.show()"
      ],
      "metadata": {
        "colab": {
          "base_uri": "https://localhost:8080/",
          "height": 863
        },
        "id": "JqSmVyhfaldF",
        "outputId": "578f91b7-f0a2-4045-9d2c-e5195bb0daa3"
      },
      "execution_count": null,
      "outputs": [
        {
          "output_type": "display_data",
          "data": {
            "text/plain": [
              "<Figure size 2160x1080 with 1 Axes>"
            ],
            "image/png": "[encoded data removed]"
          },
          "metadata": {
            "needs_background": "light"
          }
        }
      ]
    },
    {
      "cell_type": "markdown",
      "source": [
        "# 4.) Plot in and out of sample accuracy\n",
        "(Don't complete)"
      ],
      "metadata": {
        "id": "8bncNwh8tKiE"
      }
    },
    {
      "cell_type": "code",
      "source": [
        "# Make predictions on full dataset\n",
        "\n",
        "test_predict = model.predict(x_test)\n",
        "test_predictions = (test_predict+1).reshape(1,-1) * np.cumprod(y_test+1)\n",
        "\n",
        "train_predict = model.predict(x_train)\n",
        "train_predictions = (train_predict+1).reshape(1,-1) * np.cumprod(y_train+1)\n",
        "\n",
        "\n",
        "plt.plot(stock_data[:training_data_len- input_size].index, np.cumprod(y_train+1), label=\"Training Data\")\n",
        "plt.plot(stock_data[:training_data_len- input_size].index, train_predictions[0], label=\"Training Predictions\")\n",
        "end_val = np.cumprod(y_train+1)[-1]\n",
        "test_predict = model.predict(x_test)\n",
        "test_predictions = (test_predict+1).reshape(1,-1) * (np.cumprod((y_test+1))*end_val)\n",
        "plt.plot(stock_data[training_data_len+1:].index, np.cumprod((y_test+1))*end_val,label=\"Test Data\")\n",
        "plt.plot(stock_data[training_data_len+1:].index, test_predictions[0], label=\"Test Predictions\")\n",
        "plt.xlabel(\"Date\")\n",
        "plt.ylabel(\"Stock Price\")\n",
        "plt.legend()\n",
        "plt.show()"
      ],
      "metadata": {
        "id": "d698mdExtfHp",
        "colab": {
          "base_uri": "https://localhost:8080/",
          "height": 342
        },
        "outputId": "42b83711-ad0f-4d12-d6e7-aed6ab2c2984"
      },
      "execution_count": null,
      "outputs": [
        {
          "output_type": "stream",
          "name": "stdout",
          "text": [
            "32/32 [==============================] - 0s 4ms/step\n",
            "127/127 [==============================] - 1s 5ms/step\n",
            "32/32 [==============================] - 0s 7ms/step\n"
          ]
        },
        {
          "output_type": "display_data",
          "data": {
            "text/plain": [
              "<Figure size 432x288 with 1 Axes>"
            ],
            "image/png": "[encoded data removed]"
          },
          "metadata": {
            "needs_background": "light"
          }
        }
      ]
    },
    {
      "cell_type": "markdown",
      "source": [
        "#5.) Write an observation/conclusion about the graphs from Q4 and Q3"
      ],
      "metadata": {
        "id": "bK_jyyEEtTUB"
      }
    },
    {
      "cell_type": "markdown",
      "source": [
        "Based on the bar chart above, the in-sample RW assumption MAE is relatively high, while the in-sample RW assumption RMSE, out-of-sample RW assumption MAE, and out-of-sample RW assumption RMSE are small. Because the in-sample RW assumption MAE is high and the in-sample RW assumption RMSE is low, this suggests that the model is making large errors on individual forecasts. The in-sample accuracy is low, at about 0.25.\n",
        "\n",
        "Because the out-of-sample random walk assumption MAE and RMSE are low, we can assume the model is able to make accurate forecasts on new data that it has not seen before. Therefore, the model is not overfitting to the training data and is able to generalize well to new data."
      ],
      "metadata": {
        "id": "fwzBdYI_ePuz"
      }
    },
    {
      "cell_type": "markdown",
      "source": [
        "# 6.) Create a parameter for number of lags in your input layer. Do a 3-fold CV to test three different time lags. i.e. Tested using 5,10,20 days of previous price data to forecast"
      ],
      "metadata": {
        "id": "pFtrp-lmtw6t"
      }
    },
    {
      "cell_type": "code",
      "source": [
        "from sklearn.model_selection import GridSearchCV\n",
        "from keras.wrappers.scikit_learn import KerasClassifier\n",
        "from keras.wrappers.scikit_learn import KerasRegressor\n",
        "from keras.layers import Dense, LSTM, TimeDistributed\n",
        "from keras.models import Sequential\n",
        "\n",
        "# Define the Keras model\n",
        "def create_model(lags):\n",
        "    model = Sequential()\n",
        "    #model.add(Dense(10, input_dim=60, activation='LSTM'))\n",
        "    model.add(LSTM(10, input_shape=(lags, 1)))\n",
        "    model.add(Dense(1, activation='sigmoid'))\n",
        "    model.compile(loss='binary_crossentropy', optimizer='adam', metrics=['accuracy'])\n",
        "    return(model)\n",
        "\n",
        "# Define the hyperparameters to search over\n",
        "param_grid = {'lags': [5, 10, 20],\n",
        "              'batch_size': [10, 20, 100],\n",
        "              'epochs': [1, 3]}\n",
        "              \n",
        "# Wrap the Keras model in a scikit-learn compatible estimator\n",
        "model = KerasRegressor(build_fn=lambda lags: create_model(lags), verbose=0)\n",
        "\n",
        "# Perform the grid search over the hyperparameters\n",
        "grid = GridSearchCV(estimator=model, param_grid=param_grid, n_jobs=-1, cv=3)\n",
        "grid_result = grid.fit(x_train, y_train)\n",
        "\n",
        "# Print the results\n",
        "print(\"Best: %f using %s\" % (grid_result.best_score_, grid_result.best_params_))"
      ],
      "metadata": {
        "colab": {
          "base_uri": "https://localhost:8080/"
        },
        "id": "kEOQ6TO0-Fnw",
        "outputId": "8bd84f2c-b9a3-498d-db99-98594adac4cc"
      },
      "execution_count": null,
      "outputs": [
        {
          "output_type": "stream",
          "name": "stdout",
          "text": [
            "Best: -0.692244 using {'batch_size': 20, 'epochs': 3, 'lags': 10}\n"
          ]
        }
      ]
    }
  ]
}