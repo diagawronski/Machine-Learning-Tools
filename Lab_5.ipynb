{
  "nbformat": 4,
  "nbformat_minor": 0,
  "metadata": {
    "colab": {
      "provenance": []
    },
    "kernelspec": {
      "name": "python3",
      "display_name": "Python 3"
    },
    "language_info": {
      "name": "python"
    }
  },
  "cells": [
    {
      "cell_type": "markdown",
      "source": [
        "# 0.) Import the US Perminent Visas using zip extractor"
      ],
      "metadata": {
        "id": "7ywSRtNI4s5h"
      }
    },
    {
      "cell_type": "code",
      "execution_count": null,
      "metadata": {
        "id": "nsG1QV154GYZ"
      },
      "outputs": [],
      "source": [
        "import pandas as pd\n",
        "from google.colab import drive\n",
        "import matplotlib.pyplot as plt\n",
        "import numpy as np"
      ]
    },
    {
      "cell_type": "code",
      "source": [
        "drive.mount('/content/gdrive/', force_remount = True)"
      ],
      "metadata": {
        "colab": {
          "base_uri": "https://localhost:8080/"
        },
        "id": "Iku0T8Ou4Lcu",
        "outputId": "04a8acf4-6fea-4416-eee6-568b983c88ab"
      },
      "execution_count": null,
      "outputs": [
        {
          "output_type": "stream",
          "name": "stdout",
          "text": [
            "Mounted at /content/gdrive/\n"
          ]
        }
      ]
    },
    {
      "cell_type": "code",
      "source": [
        "import zipfile\n",
        "\n",
        "zf = zipfile.ZipFile(\"/content/gdrive/MyDrive/Econ 441B/us_perm_visas.csv.zip\") \n",
        "df = pd.read_csv(zf.open('us_perm_visas.csv'))"
      ],
      "metadata": {
        "colab": {
          "base_uri": "https://localhost:8080/"
        },
        "id": "Q7XmCWs_rULl",
        "outputId": "65f716b6-09b9-4215-a127-c61d2500e36f"
      },
      "execution_count": null,
      "outputs": [
        {
          "output_type": "stream",
          "name": "stderr",
          "text": [
            "/usr/local/lib/python3.8/dist-packages/IPython/core/interactiveshell.py:3326: DtypeWarning: Columns (0,1,2,3,4,5,6,7,10,11,16,17,20,21,22,25,26,27,28,29,30,31,32,33,34,35,36,37,39,40,41,42,43,44,45,47,48,49,50,51,52,53,55,56,57,58,59,60,61,63,64,65,66,68,69,70,71,72,73,74,77,79,80,81,82,83,84,85,86,87,88,89,90,91,92,93,94,95,100,101,103,104,105,106,107,108,109,110,111,112,113,114,115,116,117,118,119,120,121,122,123,124,125,126,127,128,129,130,131,132,133,134,135,136,137,138,139,140,141,142,143,144,145,146,147,148,149,150,153) have mixed types.Specify dtype option on import or set low_memory=False.\n",
            "  exec(code_obj, self.user_global_ns, self.user_ns)\n"
          ]
        }
      ]
    },
    {
      "cell_type": "code",
      "source": [
        "df"
      ],
      "metadata": {
        "id": "KJQfo8mz43Kz",
        "colab": {
          "base_uri": "https://localhost:8080/",
          "height": 800
        },
        "outputId": "044db917-f811-46c9-f013-c9b73a4e0125"
      },
      "execution_count": null,
      "outputs": [
        {
          "output_type": "execute_result",
          "data": {
            "text/plain": [
              "       add_these_pw_job_title_9089   agent_city  \\\n",
              "0                              NaN          NaN   \n",
              "1                              NaN          NaN   \n",
              "2                              NaN          NaN   \n",
              "3                              NaN          NaN   \n",
              "4                              NaN          NaN   \n",
              "...                            ...          ...   \n",
              "374357                         NaN   Buena Park   \n",
              "374358                         NaN      Seattle   \n",
              "374359                         NaN   Schaumburg   \n",
              "374360                         NaN  LOS ANGELES   \n",
              "374361                         NaN      Phoenix   \n",
              "\n",
              "                                          agent_firm_name agent_state  \\\n",
              "0                                                     NaN         NaN   \n",
              "1                                                     NaN         NaN   \n",
              "2                                                     NaN         NaN   \n",
              "3                                                     NaN         NaN   \n",
              "4                                                     NaN         NaN   \n",
              "...                                                   ...         ...   \n",
              "374357                           Law Offices of Yohan Lee          CA   \n",
              "374358                         MacDonald Hoague & Bayless          WA   \n",
              "374359  International Legal and Business Services Grou...          IL   \n",
              "374360                        LAW OFFICES OF JAMES S HONG          CA   \n",
              "374361            Fragomen, Del Rey, Bernsen & Loewy, LLP          AZ   \n",
              "\n",
              "       application_type        case_no    case_number case_received_date  \\\n",
              "0                  PERM  A-07323-97014            NaN                NaN   \n",
              "1                  PERM  A-07332-99439            NaN                NaN   \n",
              "2                  PERM  A-07333-99643            NaN                NaN   \n",
              "3                  PERM  A-07339-01930            NaN                NaN   \n",
              "4                  PERM  A-07345-03565            NaN                NaN   \n",
              "...                 ...            ...            ...                ...   \n",
              "374357              NaN            NaN  A-16363-85407         2016-12-29   \n",
              "374358              NaN            NaN  A-16271-56745         2016-12-30   \n",
              "374359              NaN            NaN  A-16354-82345         2016-12-30   \n",
              "374360              NaN            NaN  A-16357-84250         2016-12-30   \n",
              "374361              NaN            NaN  A-16279-59292         2016-12-30   \n",
              "\n",
              "       case_status class_of_admission  ... ri_pvt_employment_firm_to  \\\n",
              "0        Certified                J-1  ...                       NaN   \n",
              "1           Denied                B-2  ...                       NaN   \n",
              "2        Certified               H-1B  ...                       NaN   \n",
              "3        Certified                B-2  ...                       NaN   \n",
              "4        Certified                L-1  ...                       NaN   \n",
              "...            ...                ...  ...                       ...   \n",
              "374357   Withdrawn                NaN  ...                       NaN   \n",
              "374358   Withdrawn                L-1  ...                       NaN   \n",
              "374359   Withdrawn               H-1B  ...                       NaN   \n",
              "374360   Withdrawn                B-2  ...                       NaN   \n",
              "374361   Withdrawn               H-1B  ...                       NaN   \n",
              "\n",
              "       ri_us_workers_considered schd_a_sheepherder     us_economic_sector  \\\n",
              "0                           NaN                NaN                     IT   \n",
              "1                           NaN                NaN  Other Economic Sector   \n",
              "2                           NaN                NaN              Aerospace   \n",
              "3                           NaN                NaN  Other Economic Sector   \n",
              "4                           NaN                NaN           Advanced Mfg   \n",
              "...                         ...                ...                    ...   \n",
              "374357                      NaN                  N                    NaN   \n",
              "374358                        Y                  N                    NaN   \n",
              "374359                      NaN                  N                    NaN   \n",
              "374360                      NaN                  N                    NaN   \n",
              "374361                      NaN                  N                    NaN   \n",
              "\n",
              "       wage_offer_from_9089 wage_offer_to_9089 wage_offer_unit_of_pay_9089  \\\n",
              "0                   75629.0                NaN                          yr   \n",
              "1                   37024.0                NaN                          yr   \n",
              "2                   47923.0                NaN                          yr   \n",
              "3                     10.97                NaN                          hr   \n",
              "4                  100000.0                NaN                          yr   \n",
              "...                     ...                ...                         ...   \n",
              "374357            28,330.00                NaN                        Year   \n",
              "374358           122,000.00         142,000.00                        Year   \n",
              "374359            79,082.00          79,082.00                        Year   \n",
              "374360            37,981.00                NaN                        Year   \n",
              "374361            84,926.00         121,500.00                        Year   \n",
              "\n",
              "       wage_offered_from_9089 wage_offered_to_9089  \\\n",
              "0                         NaN                  NaN   \n",
              "1                         NaN                  NaN   \n",
              "2                         NaN                  NaN   \n",
              "3                         NaN                  NaN   \n",
              "4                         NaN                  NaN   \n",
              "...                       ...                  ...   \n",
              "374357                    NaN                  NaN   \n",
              "374358                    NaN                  NaN   \n",
              "374359                    NaN                  NaN   \n",
              "374360                    NaN                  NaN   \n",
              "374361                    NaN                  NaN   \n",
              "\n",
              "        wage_offered_unit_of_pay_9089  \n",
              "0                                 NaN  \n",
              "1                                 NaN  \n",
              "2                                 NaN  \n",
              "3                                 NaN  \n",
              "4                                 NaN  \n",
              "...                               ...  \n",
              "374357                            NaN  \n",
              "374358                            NaN  \n",
              "374359                            NaN  \n",
              "374360                            NaN  \n",
              "374361                            NaN  \n",
              "\n",
              "[374362 rows x 154 columns]"
            ],
            "text/html": [
              "\n",
              "  <div id=\"df-3bc17c62-1338-4e0c-bfda-cea195e55bbc\">\n",
              "    <div class=\"colab-df-container\">\n",
              "      <div>\n",
              "<style scoped>\n",
              "    .dataframe tbody tr th:only-of-type {\n",
              "        vertical-align: middle;\n",
              "    }\n",
              "\n",
              "    .dataframe tbody tr th {\n",
              "        vertical-align: top;\n",
              "    }\n",
              "\n",
              "    .dataframe thead th {\n",
              "        text-align: right;\n",
              "    }\n",
              "</style>\n",
              "<table border=\"1\" class=\"dataframe\">\n",
              "  <thead>\n",
              "    <tr style=\"text-align: right;\">\n",
              "      <th></th>\n",
              "      <th>add_these_pw_job_title_9089</th>\n",
              "      <th>agent_city</th>\n",
              "      <th>agent_firm_name</th>\n",
              "      <th>agent_state</th>\n",
              "      <th>application_type</th>\n",
              "      <th>case_no</th>\n",
              "      <th>case_number</th>\n",
              "      <th>case_received_date</th>\n",
              "      <th>case_status</th>\n",
              "      <th>class_of_admission</th>\n",
              "      <th>...</th>\n",
              "      <th>ri_pvt_employment_firm_to</th>\n",
              "      <th>ri_us_workers_considered</th>\n",
              "      <th>schd_a_sheepherder</th>\n",
              "      <th>us_economic_sector</th>\n",
              "      <th>wage_offer_from_9089</th>\n",
              "      <th>wage_offer_to_9089</th>\n",
              "      <th>wage_offer_unit_of_pay_9089</th>\n",
              "      <th>wage_offered_from_9089</th>\n",
              "      <th>wage_offered_to_9089</th>\n",
              "      <th>wage_offered_unit_of_pay_9089</th>\n",
              "    </tr>\n",
              "  </thead>\n",
              "  <tbody>\n",
              "    <tr>\n",
              "      <th>0</th>\n",
              "      <td>NaN</td>\n",
              "      <td>NaN</td>\n",
              "      <td>NaN</td>\n",
              "      <td>NaN</td>\n",
              "      <td>PERM</td>\n",
              "      <td>A-07323-97014</td>\n",
              "      <td>NaN</td>\n",
              "      <td>NaN</td>\n",
              "      <td>Certified</td>\n",
              "      <td>J-1</td>\n",
              "      <td>...</td>\n",
              "      <td>NaN</td>\n",
              "      <td>NaN</td>\n",
              "      <td>NaN</td>\n",
              "      <td>IT</td>\n",
              "      <td>75629.0</td>\n",
              "      <td>NaN</td>\n",
              "      <td>yr</td>\n",
              "      <td>NaN</td>\n",
              "      <td>NaN</td>\n",
              "      <td>NaN</td>\n",
              "    </tr>\n",
              "    <tr>\n",
              "      <th>1</th>\n",
              "      <td>NaN</td>\n",
              "      <td>NaN</td>\n",
              "      <td>NaN</td>\n",
              "      <td>NaN</td>\n",
              "      <td>PERM</td>\n",
              "      <td>A-07332-99439</td>\n",
              "      <td>NaN</td>\n",
              "      <td>NaN</td>\n",
              "      <td>Denied</td>\n",
              "      <td>B-2</td>\n",
              "      <td>...</td>\n",
              "      <td>NaN</td>\n",
              "      <td>NaN</td>\n",
              "      <td>NaN</td>\n",
              "      <td>Other Economic Sector</td>\n",
              "      <td>37024.0</td>\n",
              "      <td>NaN</td>\n",
              "      <td>yr</td>\n",
              "      <td>NaN</td>\n",
              "      <td>NaN</td>\n",
              "      <td>NaN</td>\n",
              "    </tr>\n",
              "    <tr>\n",
              "      <th>2</th>\n",
              "      <td>NaN</td>\n",
              "      <td>NaN</td>\n",
              "      <td>NaN</td>\n",
              "      <td>NaN</td>\n",
              "      <td>PERM</td>\n",
              "      <td>A-07333-99643</td>\n",
              "      <td>NaN</td>\n",
              "      <td>NaN</td>\n",
              "      <td>Certified</td>\n",
              "      <td>H-1B</td>\n",
              "      <td>...</td>\n",
              "      <td>NaN</td>\n",
              "      <td>NaN</td>\n",
              "      <td>NaN</td>\n",
              "      <td>Aerospace</td>\n",
              "      <td>47923.0</td>\n",
              "      <td>NaN</td>\n",
              "      <td>yr</td>\n",
              "      <td>NaN</td>\n",
              "      <td>NaN</td>\n",
              "      <td>NaN</td>\n",
              "    </tr>\n",
              "    <tr>\n",
              "      <th>3</th>\n",
              "      <td>NaN</td>\n",
              "      <td>NaN</td>\n",
              "      <td>NaN</td>\n",
              "      <td>NaN</td>\n",
              "      <td>PERM</td>\n",
              "      <td>A-07339-01930</td>\n",
              "      <td>NaN</td>\n",
              "      <td>NaN</td>\n",
              "      <td>Certified</td>\n",
              "      <td>B-2</td>\n",
              "      <td>...</td>\n",
              "      <td>NaN</td>\n",
              "      <td>NaN</td>\n",
              "      <td>NaN</td>\n",
              "      <td>Other Economic Sector</td>\n",
              "      <td>10.97</td>\n",
              "      <td>NaN</td>\n",
              "      <td>hr</td>\n",
              "      <td>NaN</td>\n",
              "      <td>NaN</td>\n",
              "      <td>NaN</td>\n",
              "    </tr>\n",
              "    <tr>\n",
              "      <th>4</th>\n",
              "      <td>NaN</td>\n",
              "      <td>NaN</td>\n",
              "      <td>NaN</td>\n",
              "      <td>NaN</td>\n",
              "      <td>PERM</td>\n",
              "      <td>A-07345-03565</td>\n",
              "      <td>NaN</td>\n",
              "      <td>NaN</td>\n",
              "      <td>Certified</td>\n",
              "      <td>L-1</td>\n",
              "      <td>...</td>\n",
              "      <td>NaN</td>\n",
              "      <td>NaN</td>\n",
              "      <td>NaN</td>\n",
              "      <td>Advanced Mfg</td>\n",
              "      <td>100000.0</td>\n",
              "      <td>NaN</td>\n",
              "      <td>yr</td>\n",
              "      <td>NaN</td>\n",
              "      <td>NaN</td>\n",
              "      <td>NaN</td>\n",
              "    </tr>\n",
              "    <tr>\n",
              "      <th>...</th>\n",
              "      <td>...</td>\n",
              "      <td>...</td>\n",
              "      <td>...</td>\n",
              "      <td>...</td>\n",
              "      <td>...</td>\n",
              "      <td>...</td>\n",
              "      <td>...</td>\n",
              "      <td>...</td>\n",
              "      <td>...</td>\n",
              "      <td>...</td>\n",
              "      <td>...</td>\n",
              "      <td>...</td>\n",
              "      <td>...</td>\n",
              "      <td>...</td>\n",
              "      <td>...</td>\n",
              "      <td>...</td>\n",
              "      <td>...</td>\n",
              "      <td>...</td>\n",
              "      <td>...</td>\n",
              "      <td>...</td>\n",
              "      <td>...</td>\n",
              "    </tr>\n",
              "    <tr>\n",
              "      <th>374357</th>\n",
              "      <td>NaN</td>\n",
              "      <td>Buena Park</td>\n",
              "      <td>Law Offices of Yohan Lee</td>\n",
              "      <td>CA</td>\n",
              "      <td>NaN</td>\n",
              "      <td>NaN</td>\n",
              "      <td>A-16363-85407</td>\n",
              "      <td>2016-12-29</td>\n",
              "      <td>Withdrawn</td>\n",
              "      <td>NaN</td>\n",
              "      <td>...</td>\n",
              "      <td>NaN</td>\n",
              "      <td>NaN</td>\n",
              "      <td>N</td>\n",
              "      <td>NaN</td>\n",
              "      <td>28,330.00</td>\n",
              "      <td>NaN</td>\n",
              "      <td>Year</td>\n",
              "      <td>NaN</td>\n",
              "      <td>NaN</td>\n",
              "      <td>NaN</td>\n",
              "    </tr>\n",
              "    <tr>\n",
              "      <th>374358</th>\n",
              "      <td>NaN</td>\n",
              "      <td>Seattle</td>\n",
              "      <td>MacDonald Hoague &amp; Bayless</td>\n",
              "      <td>WA</td>\n",
              "      <td>NaN</td>\n",
              "      <td>NaN</td>\n",
              "      <td>A-16271-56745</td>\n",
              "      <td>2016-12-30</td>\n",
              "      <td>Withdrawn</td>\n",
              "      <td>L-1</td>\n",
              "      <td>...</td>\n",
              "      <td>NaN</td>\n",
              "      <td>Y</td>\n",
              "      <td>N</td>\n",
              "      <td>NaN</td>\n",
              "      <td>122,000.00</td>\n",
              "      <td>142,000.00</td>\n",
              "      <td>Year</td>\n",
              "      <td>NaN</td>\n",
              "      <td>NaN</td>\n",
              "      <td>NaN</td>\n",
              "    </tr>\n",
              "    <tr>\n",
              "      <th>374359</th>\n",
              "      <td>NaN</td>\n",
              "      <td>Schaumburg</td>\n",
              "      <td>International Legal and Business Services Grou...</td>\n",
              "      <td>IL</td>\n",
              "      <td>NaN</td>\n",
              "      <td>NaN</td>\n",
              "      <td>A-16354-82345</td>\n",
              "      <td>2016-12-30</td>\n",
              "      <td>Withdrawn</td>\n",
              "      <td>H-1B</td>\n",
              "      <td>...</td>\n",
              "      <td>NaN</td>\n",
              "      <td>NaN</td>\n",
              "      <td>N</td>\n",
              "      <td>NaN</td>\n",
              "      <td>79,082.00</td>\n",
              "      <td>79,082.00</td>\n",
              "      <td>Year</td>\n",
              "      <td>NaN</td>\n",
              "      <td>NaN</td>\n",
              "      <td>NaN</td>\n",
              "    </tr>\n",
              "    <tr>\n",
              "      <th>374360</th>\n",
              "      <td>NaN</td>\n",
              "      <td>LOS ANGELES</td>\n",
              "      <td>LAW OFFICES OF JAMES S HONG</td>\n",
              "      <td>CA</td>\n",
              "      <td>NaN</td>\n",
              "      <td>NaN</td>\n",
              "      <td>A-16357-84250</td>\n",
              "      <td>2016-12-30</td>\n",
              "      <td>Withdrawn</td>\n",
              "      <td>B-2</td>\n",
              "      <td>...</td>\n",
              "      <td>NaN</td>\n",
              "      <td>NaN</td>\n",
              "      <td>N</td>\n",
              "      <td>NaN</td>\n",
              "      <td>37,981.00</td>\n",
              "      <td>NaN</td>\n",
              "      <td>Year</td>\n",
              "      <td>NaN</td>\n",
              "      <td>NaN</td>\n",
              "      <td>NaN</td>\n",
              "    </tr>\n",
              "    <tr>\n",
              "      <th>374361</th>\n",
              "      <td>NaN</td>\n",
              "      <td>Phoenix</td>\n",
              "      <td>Fragomen, Del Rey, Bernsen &amp; Loewy, LLP</td>\n",
              "      <td>AZ</td>\n",
              "      <td>NaN</td>\n",
              "      <td>NaN</td>\n",
              "      <td>A-16279-59292</td>\n",
              "      <td>2016-12-30</td>\n",
              "      <td>Withdrawn</td>\n",
              "      <td>H-1B</td>\n",
              "      <td>...</td>\n",
              "      <td>NaN</td>\n",
              "      <td>NaN</td>\n",
              "      <td>N</td>\n",
              "      <td>NaN</td>\n",
              "      <td>84,926.00</td>\n",
              "      <td>121,500.00</td>\n",
              "      <td>Year</td>\n",
              "      <td>NaN</td>\n",
              "      <td>NaN</td>\n",
              "      <td>NaN</td>\n",
              "    </tr>\n",
              "  </tbody>\n",
              "</table>\n",
              "<p>374362 rows × 154 columns</p>\n",
              "</div>\n",
              "      <button class=\"colab-df-convert\" onclick=\"convertToInteractive('df-3bc17c62-1338-4e0c-bfda-cea195e55bbc')\"\n",
              "              title=\"Convert this dataframe to an interactive table.\"\n",
              "              style=\"display:none;\">\n",
              "        \n",
              "  <svg xmlns=\"http://www.w3.org/2000/svg\" height=\"24px\"viewBox=\"0 0 24 24\"\n",
              "       width=\"24px\">\n",
              "    <path d=\"M0 0h24v24H0V0z\" fill=\"none\"/>\n",
              "    <path d=\"M18.56 5.44l.94 2.06.94-2.06 2.06-.94-2.06-.94-.94-2.06-.94 2.06-2.06.94zm-11 1L8.5 8.5l.94-2.06 2.06-.94-2.06-.94L8.5 2.5l-.94 2.06-2.06.94zm10 10l.94 2.06.94-2.06 2.06-.94-2.06-.94-.94-2.06-.94 2.06-2.06.94z\"/><path d=\"M17.41 7.96l-1.37-1.37c-.4-.4-.92-.59-1.43-.59-.52 0-1.04.2-1.43.59L10.3 9.45l-7.72 7.72c-.78.78-.78 2.05 0 2.83L4 21.41c.39.39.9.59 1.41.59.51 0 1.02-.2 1.41-.59l7.78-7.78 2.81-2.81c.8-.78.8-2.07 0-2.86zM5.41 20L4 18.59l7.72-7.72 1.47 1.35L5.41 20z\"/>\n",
              "  </svg>\n",
              "      </button>\n",
              "      \n",
              "  <style>\n",
              "    .colab-df-container {\n",
              "      display:flex;\n",
              "      flex-wrap:wrap;\n",
              "      gap: 12px;\n",
              "    }\n",
              "\n",
              "    .colab-df-convert {\n",
              "      background-color: #E8F0FE;\n",
              "      border: none;\n",
              "      border-radius: 50%;\n",
              "      cursor: pointer;\n",
              "      display: none;\n",
              "      fill: #1967D2;\n",
              "      height: 32px;\n",
              "      padding: 0 0 0 0;\n",
              "      width: 32px;\n",
              "    }\n",
              "\n",
              "    .colab-df-convert:hover {\n",
              "      background-color: #E2EBFA;\n",
              "      box-shadow: 0px 1px 2px rgba(60, 64, 67, 0.3), 0px 1px 3px 1px rgba(60, 64, 67, 0.15);\n",
              "      fill: #174EA6;\n",
              "    }\n",
              "\n",
              "    [theme=dark] .colab-df-convert {\n",
              "      background-color: #3B4455;\n",
              "      fill: #D2E3FC;\n",
              "    }\n",
              "\n",
              "    [theme=dark] .colab-df-convert:hover {\n",
              "      background-color: #434B5C;\n",
              "      box-shadow: 0px 1px 3px 1px rgba(0, 0, 0, 0.15);\n",
              "      filter: drop-shadow(0px 1px 2px rgba(0, 0, 0, 0.3));\n",
              "      fill: #FFFFFF;\n",
              "    }\n",
              "  </style>\n",
              "\n",
              "      <script>\n",
              "        const buttonEl =\n",
              "          document.querySelector('#df-3bc17c62-1338-4e0c-bfda-cea195e55bbc button.colab-df-convert');\n",
              "        buttonEl.style.display =\n",
              "          google.colab.kernel.accessAllowed ? 'block' : 'none';\n",
              "\n",
              "        async function convertToInteractive(key) {\n",
              "          const element = document.querySelector('#df-3bc17c62-1338-4e0c-bfda-cea195e55bbc');\n",
              "          const dataTable =\n",
              "            await google.colab.kernel.invokeFunction('convertToInteractive',\n",
              "                                                     [key], {});\n",
              "          if (!dataTable) return;\n",
              "\n",
              "          const docLinkHtml = 'Like what you see? Visit the ' +\n",
              "            '<a target=\"_blank\" href=https://colab.research.google.com/notebooks/data_table.ipynb>data table notebook</a>'\n",
              "            + ' to learn more about interactive tables.';\n",
              "          element.innerHTML = '';\n",
              "          dataTable['output_type'] = 'display_data';\n",
              "          await google.colab.output.renderOutput(dataTable, element);\n",
              "          const docLink = document.createElement('div');\n",
              "          docLink.innerHTML = docLinkHtml;\n",
              "          element.appendChild(docLink);\n",
              "        }\n",
              "      </script>\n",
              "    </div>\n",
              "  </div>\n",
              "  "
            ]
          },
          "metadata": {},
          "execution_count": 5
        }
      ]
    },
    {
      "cell_type": "code",
      "source": [
        "#zf.extractall(path=\"/content/gdrive/MyDrive/Econ 441B\")\n",
        "#df = pd.read_csv(zf.open('us_perm_visas.csv'))"
      ],
      "metadata": {
        "id": "HeG7FXuDriNo"
      },
      "execution_count": null,
      "outputs": []
    },
    {
      "cell_type": "code",
      "source": [
        "for i in df.columns:\n",
        "  print(i)"
      ],
      "metadata": {
        "colab": {
          "base_uri": "https://localhost:8080/"
        },
        "id": "JQ-XW_ocYsXh",
        "outputId": "4d158253-6b5a-4d8f-fef7-8a1f6abdec08"
      },
      "execution_count": null,
      "outputs": [
        {
          "output_type": "stream",
          "name": "stdout",
          "text": [
            "add_these_pw_job_title_9089\n",
            "agent_city\n",
            "agent_firm_name\n",
            "agent_state\n",
            "application_type\n",
            "case_no\n",
            "case_number\n",
            "case_received_date\n",
            "case_status\n",
            "class_of_admission\n",
            "country_of_citizenship\n",
            "country_of_citzenship\n",
            "decision_date\n",
            "employer_address_1\n",
            "employer_address_2\n",
            "employer_city\n",
            "employer_country\n",
            "employer_decl_info_title\n",
            "employer_name\n",
            "employer_num_employees\n",
            "employer_phone\n",
            "employer_phone_ext\n",
            "employer_postal_code\n",
            "employer_state\n",
            "employer_yr_estab\n",
            "foreign_worker_info_alt_edu_experience\n",
            "foreign_worker_info_birth_country\n",
            "foreign_worker_info_city\n",
            "foreign_worker_info_education\n",
            "foreign_worker_info_education_other\n",
            "foreign_worker_info_inst\n",
            "foreign_worker_info_major\n",
            "foreign_worker_info_postal_code\n",
            "foreign_worker_info_rel_occup_exp\n",
            "foreign_worker_info_req_experience\n",
            "foreign_worker_info_state\n",
            "foreign_worker_info_training_comp\n",
            "foreign_worker_ownership_interest\n",
            "foreign_worker_yr_rel_edu_completed\n",
            "fw_info_alt_edu_experience\n",
            "fw_info_birth_country\n",
            "fw_info_education_other\n",
            "fw_info_postal_code\n",
            "fw_info_rel_occup_exp\n",
            "fw_info_req_experience\n",
            "fw_info_training_comp\n",
            "fw_info_yr_rel_edu_completed\n",
            "fw_ownership_interest\n",
            "ji_foreign_worker_live_on_premises\n",
            "ji_fw_live_on_premises\n",
            "ji_live_in_dom_svc_contract\n",
            "ji_live_in_domestic_service\n",
            "ji_offered_to_sec_j_foreign_worker\n",
            "ji_offered_to_sec_j_fw\n",
            "job_info_alt_cmb_ed_oth_yrs\n",
            "job_info_alt_combo_ed\n",
            "job_info_alt_combo_ed_exp\n",
            "job_info_alt_combo_ed_other\n",
            "job_info_alt_field\n",
            "job_info_alt_field_name\n",
            "job_info_alt_occ\n",
            "job_info_alt_occ_job_title\n",
            "job_info_alt_occ_num_months\n",
            "job_info_combo_occupation\n",
            "job_info_education\n",
            "job_info_education_other\n",
            "job_info_experience\n",
            "job_info_experience_num_months\n",
            "job_info_foreign_ed\n",
            "job_info_foreign_lang_req\n",
            "job_info_job_req_normal\n",
            "job_info_job_title\n",
            "job_info_major\n",
            "job_info_training\n",
            "job_info_training_field\n",
            "job_info_training_num_months\n",
            "job_info_work_city\n",
            "job_info_work_postal_code\n",
            "job_info_work_state\n",
            "naics_2007_us_code\n",
            "naics_2007_us_title\n",
            "naics_code\n",
            "naics_title\n",
            "naics_us_code\n",
            "naics_us_code_2007\n",
            "naics_us_title\n",
            "naics_us_title_2007\n",
            "orig_case_no\n",
            "orig_file_date\n",
            "preparer_info_emp_completed\n",
            "preparer_info_title\n",
            "pw_amount_9089\n",
            "pw_determ_date\n",
            "pw_expire_date\n",
            "pw_job_title_908\n",
            "pw_job_title_9089\n",
            "pw_level_9089\n",
            "pw_soc_code\n",
            "pw_soc_title\n",
            "pw_source_name_9089\n",
            "pw_source_name_other_9089\n",
            "pw_track_num\n",
            "pw_unit_of_pay_9089\n",
            "rec_info_barg_rep_notified\n",
            "recr_info_barg_rep_notified\n",
            "recr_info_coll_teach_comp_proc\n",
            "recr_info_coll_univ_teacher\n",
            "recr_info_employer_rec_payment\n",
            "recr_info_first_ad_start\n",
            "recr_info_job_fair_from\n",
            "recr_info_job_fair_to\n",
            "recr_info_on_campus_recr_from\n",
            "recr_info_on_campus_recr_to\n",
            "recr_info_pro_org_advert_from\n",
            "recr_info_pro_org_advert_to\n",
            "recr_info_prof_org_advert_from\n",
            "recr_info_prof_org_advert_to\n",
            "recr_info_professional_occ\n",
            "recr_info_radio_tv_ad_from\n",
            "recr_info_radio_tv_ad_to\n",
            "recr_info_second_ad_start\n",
            "recr_info_sunday_newspaper\n",
            "recr_info_swa_job_order_end\n",
            "recr_info_swa_job_order_start\n",
            "refile\n",
            "ri_1st_ad_newspaper_name\n",
            "ri_2nd_ad_newspaper_name\n",
            "ri_2nd_ad_newspaper_or_journal\n",
            "ri_campus_placement_from\n",
            "ri_campus_placement_to\n",
            "ri_coll_tch_basic_process\n",
            "ri_coll_teach_pro_jnl\n",
            "ri_coll_teach_select_date\n",
            "ri_employee_referral_prog_from\n",
            "ri_employee_referral_prog_to\n",
            "ri_employer_web_post_from\n",
            "ri_employer_web_post_to\n",
            "ri_job_search_website_from\n",
            "ri_job_search_website_to\n",
            "ri_layoff_in_past_six_months\n",
            "ri_local_ethnic_paper_from\n",
            "ri_local_ethnic_paper_to\n",
            "ri_posted_notice_at_worksite\n",
            "ri_pvt_employment_firm_from\n",
            "ri_pvt_employment_firm_to\n",
            "ri_us_workers_considered\n",
            "schd_a_sheepherder\n",
            "us_economic_sector\n",
            "wage_offer_from_9089\n",
            "wage_offer_to_9089\n",
            "wage_offer_unit_of_pay_9089\n",
            "wage_offered_from_9089\n",
            "wage_offered_to_9089\n",
            "wage_offered_unit_of_pay_9089\n"
          ]
        }
      ]
    },
    {
      "cell_type": "code",
      "source": [
        "df.foreign_worker_info_education.describe()\n",
        "df.foreign_worker_info_education.unique()"
      ],
      "metadata": {
        "colab": {
          "base_uri": "https://localhost:8080/"
        },
        "id": "YFle0g5fY2QY",
        "outputId": "b6240304-400d-453a-fe86-b0975a88960e"
      },
      "execution_count": null,
      "outputs": [
        {
          "output_type": "execute_result",
          "data": {
            "text/plain": [
              "array([nan, \"Bachelor's\", 'None', 'Doctorate', \"Master's\", 'Other',\n",
              "       'High School', \"Associate's\"], dtype=object)"
            ]
          },
          "metadata": {},
          "execution_count": 8
        }
      ]
    },
    {
      "cell_type": "code",
      "source": [
        "df.application_type.unique()"
      ],
      "metadata": {
        "colab": {
          "base_uri": "https://localhost:8080/"
        },
        "id": "kP077ELet04r",
        "outputId": "80e2379e-2cdf-4531-b967-1e0cf7182d35"
      },
      "execution_count": null,
      "outputs": [
        {
          "output_type": "execute_result",
          "data": {
            "text/plain": [
              "array(['PERM', 'ONLINE', 'MAILEDIN', nan], dtype=object)"
            ]
          },
          "metadata": {},
          "execution_count": 9
        }
      ]
    },
    {
      "cell_type": "code",
      "source": [
        "df.foreign_worker_info_education.tail()"
      ],
      "metadata": {
        "colab": {
          "base_uri": "https://localhost:8080/"
        },
        "id": "CbzxnjSEaAL9",
        "outputId": "340e0d68-9a7f-44ed-ae2a-db7b38dd9b26"
      },
      "execution_count": null,
      "outputs": [
        {
          "output_type": "execute_result",
          "data": {
            "text/plain": [
              "374357    Associate's\n",
              "374358     Bachelor's\n",
              "374359       Master's\n",
              "374360           None\n",
              "374361       Master's\n",
              "Name: foreign_worker_info_education, dtype: object"
            ]
          },
          "metadata": {},
          "execution_count": 10
        }
      ]
    },
    {
      "cell_type": "code",
      "source": [
        "df.foreign_worker_info_education.isna().sum()"
      ],
      "metadata": {
        "colab": {
          "base_uri": "https://localhost:8080/"
        },
        "id": "61Av4tcAaHYc",
        "outputId": "a41c592d-e922-4f4a-e079-a129d72b2915"
      },
      "execution_count": null,
      "outputs": [
        {
          "output_type": "execute_result",
          "data": {
            "text/plain": [
              "135309"
            ]
          },
          "metadata": {},
          "execution_count": 11
        }
      ]
    },
    {
      "cell_type": "code",
      "source": [
        "df.job_info_training.isna().sum()"
      ],
      "metadata": {
        "colab": {
          "base_uri": "https://localhost:8080/"
        },
        "id": "mlu2A-O-aZEn",
        "outputId": "a74e449f-b3c2-4e34-d4b0-b1f52256a7e6"
      },
      "execution_count": null,
      "outputs": [
        {
          "output_type": "execute_result",
          "data": {
            "text/plain": [
              "135284"
            ]
          },
          "metadata": {},
          "execution_count": 12
        }
      ]
    },
    {
      "cell_type": "code",
      "source": [
        "df.wage_offer_from_9089.isna().sum()"
      ],
      "metadata": {
        "colab": {
          "base_uri": "https://localhost:8080/"
        },
        "id": "DUEE5iGOaQJ-",
        "outputId": "56b53b45-1893-49ac-8514-9a8880aa9cfb"
      },
      "execution_count": null,
      "outputs": [
        {
          "output_type": "execute_result",
          "data": {
            "text/plain": [
              "114771"
            ]
          },
          "metadata": {},
          "execution_count": 13
        }
      ]
    },
    {
      "cell_type": "markdown",
      "source": [
        "# 1.) US perm Visas csv from cycle using zip extractor\n"
      ],
      "metadata": {
        "id": "8VsnpGe9-B3p"
      }
    },
    {
      "cell_type": "code",
      "source": [],
      "metadata": {
        "id": "JvCzIdgO983i"
      },
      "execution_count": null,
      "outputs": []
    },
    {
      "cell_type": "code",
      "source": [],
      "metadata": {
        "id": "f7APv9N3986a"
      },
      "execution_count": null,
      "outputs": []
    },
    {
      "cell_type": "markdown",
      "source": [
        "# 2.) Choose 4 features you think are important. Case_status is your target variable\n"
      ],
      "metadata": {
        "id": "lbkpNPyN-Gnk"
      }
    },
    {
      "cell_type": "code",
      "source": [
        "df_select = df[[\"case_received_date\", \"wage_offer_from_9089\", \"job_info_training\", \"decision_date\", \"case_status\"]]"
      ],
      "metadata": {
        "id": "cNu6ysyV988v"
      },
      "execution_count": null,
      "outputs": []
    },
    {
      "cell_type": "code",
      "source": [
        "df_select.columns"
      ],
      "metadata": {
        "id": "ifsNzHvOlpdf",
        "colab": {
          "base_uri": "https://localhost:8080/"
        },
        "outputId": "aab107e4-bf29-4d3a-ae17-d3d436ae31a6"
      },
      "execution_count": null,
      "outputs": [
        {
          "output_type": "execute_result",
          "data": {
            "text/plain": [
              "Index(['case_received_date', 'wage_offer_from_9089', 'job_info_training',\n",
              "       'decision_date', 'case_status'],\n",
              "      dtype='object')"
            ]
          },
          "metadata": {},
          "execution_count": 82
        }
      ]
    },
    {
      "cell_type": "code",
      "source": [
        "df_select.tail()"
      ],
      "metadata": {
        "colab": {
          "base_uri": "https://localhost:8080/",
          "height": 206
        },
        "id": "diyFw9x7BYCj",
        "outputId": "5ae83a50-5d19-472b-9393-832c950cf712"
      },
      "execution_count": null,
      "outputs": [
        {
          "output_type": "execute_result",
          "data": {
            "text/plain": [
              "       case_received_date wage_offer_from_9089 job_info_training  \\\n",
              "374357         2016-12-29            28,330.00                 N   \n",
              "374358         2016-12-30           122,000.00                 N   \n",
              "374359         2016-12-30            79,082.00                 N   \n",
              "374360         2016-12-30            37,981.00                 N   \n",
              "374361         2016-12-30            84,926.00                 N   \n",
              "\n",
              "       decision_date case_status  \n",
              "374357    2016-12-30   Withdrawn  \n",
              "374358    2016-12-30   Withdrawn  \n",
              "374359    2016-12-30   Withdrawn  \n",
              "374360    2016-12-30   Withdrawn  \n",
              "374361    2016-12-30   Withdrawn  "
            ],
            "text/html": [
              "\n",
              "  <div id=\"df-383abe4e-da29-40ea-823a-bfd24f6940c8\">\n",
              "    <div class=\"colab-df-container\">\n",
              "      <div>\n",
              "<style scoped>\n",
              "    .dataframe tbody tr th:only-of-type {\n",
              "        vertical-align: middle;\n",
              "    }\n",
              "\n",
              "    .dataframe tbody tr th {\n",
              "        vertical-align: top;\n",
              "    }\n",
              "\n",
              "    .dataframe thead th {\n",
              "        text-align: right;\n",
              "    }\n",
              "</style>\n",
              "<table border=\"1\" class=\"dataframe\">\n",
              "  <thead>\n",
              "    <tr style=\"text-align: right;\">\n",
              "      <th></th>\n",
              "      <th>case_received_date</th>\n",
              "      <th>wage_offer_from_9089</th>\n",
              "      <th>job_info_training</th>\n",
              "      <th>decision_date</th>\n",
              "      <th>case_status</th>\n",
              "    </tr>\n",
              "  </thead>\n",
              "  <tbody>\n",
              "    <tr>\n",
              "      <th>374357</th>\n",
              "      <td>2016-12-29</td>\n",
              "      <td>28,330.00</td>\n",
              "      <td>N</td>\n",
              "      <td>2016-12-30</td>\n",
              "      <td>Withdrawn</td>\n",
              "    </tr>\n",
              "    <tr>\n",
              "      <th>374358</th>\n",
              "      <td>2016-12-30</td>\n",
              "      <td>122,000.00</td>\n",
              "      <td>N</td>\n",
              "      <td>2016-12-30</td>\n",
              "      <td>Withdrawn</td>\n",
              "    </tr>\n",
              "    <tr>\n",
              "      <th>374359</th>\n",
              "      <td>2016-12-30</td>\n",
              "      <td>79,082.00</td>\n",
              "      <td>N</td>\n",
              "      <td>2016-12-30</td>\n",
              "      <td>Withdrawn</td>\n",
              "    </tr>\n",
              "    <tr>\n",
              "      <th>374360</th>\n",
              "      <td>2016-12-30</td>\n",
              "      <td>37,981.00</td>\n",
              "      <td>N</td>\n",
              "      <td>2016-12-30</td>\n",
              "      <td>Withdrawn</td>\n",
              "    </tr>\n",
              "    <tr>\n",
              "      <th>374361</th>\n",
              "      <td>2016-12-30</td>\n",
              "      <td>84,926.00</td>\n",
              "      <td>N</td>\n",
              "      <td>2016-12-30</td>\n",
              "      <td>Withdrawn</td>\n",
              "    </tr>\n",
              "  </tbody>\n",
              "</table>\n",
              "</div>\n",
              "      <button class=\"colab-df-convert\" onclick=\"convertToInteractive('df-383abe4e-da29-40ea-823a-bfd24f6940c8')\"\n",
              "              title=\"Convert this dataframe to an interactive table.\"\n",
              "              style=\"display:none;\">\n",
              "        \n",
              "  <svg xmlns=\"http://www.w3.org/2000/svg\" height=\"24px\"viewBox=\"0 0 24 24\"\n",
              "       width=\"24px\">\n",
              "    <path d=\"M0 0h24v24H0V0z\" fill=\"none\"/>\n",
              "    <path d=\"M18.56 5.44l.94 2.06.94-2.06 2.06-.94-2.06-.94-.94-2.06-.94 2.06-2.06.94zm-11 1L8.5 8.5l.94-2.06 2.06-.94-2.06-.94L8.5 2.5l-.94 2.06-2.06.94zm10 10l.94 2.06.94-2.06 2.06-.94-2.06-.94-.94-2.06-.94 2.06-2.06.94z\"/><path d=\"M17.41 7.96l-1.37-1.37c-.4-.4-.92-.59-1.43-.59-.52 0-1.04.2-1.43.59L10.3 9.45l-7.72 7.72c-.78.78-.78 2.05 0 2.83L4 21.41c.39.39.9.59 1.41.59.51 0 1.02-.2 1.41-.59l7.78-7.78 2.81-2.81c.8-.78.8-2.07 0-2.86zM5.41 20L4 18.59l7.72-7.72 1.47 1.35L5.41 20z\"/>\n",
              "  </svg>\n",
              "      </button>\n",
              "      \n",
              "  <style>\n",
              "    .colab-df-container {\n",
              "      display:flex;\n",
              "      flex-wrap:wrap;\n",
              "      gap: 12px;\n",
              "    }\n",
              "\n",
              "    .colab-df-convert {\n",
              "      background-color: #E8F0FE;\n",
              "      border: none;\n",
              "      border-radius: 50%;\n",
              "      cursor: pointer;\n",
              "      display: none;\n",
              "      fill: #1967D2;\n",
              "      height: 32px;\n",
              "      padding: 0 0 0 0;\n",
              "      width: 32px;\n",
              "    }\n",
              "\n",
              "    .colab-df-convert:hover {\n",
              "      background-color: #E2EBFA;\n",
              "      box-shadow: 0px 1px 2px rgba(60, 64, 67, 0.3), 0px 1px 3px 1px rgba(60, 64, 67, 0.15);\n",
              "      fill: #174EA6;\n",
              "    }\n",
              "\n",
              "    [theme=dark] .colab-df-convert {\n",
              "      background-color: #3B4455;\n",
              "      fill: #D2E3FC;\n",
              "    }\n",
              "\n",
              "    [theme=dark] .colab-df-convert:hover {\n",
              "      background-color: #434B5C;\n",
              "      box-shadow: 0px 1px 3px 1px rgba(0, 0, 0, 0.15);\n",
              "      filter: drop-shadow(0px 1px 2px rgba(0, 0, 0, 0.3));\n",
              "      fill: #FFFFFF;\n",
              "    }\n",
              "  </style>\n",
              "\n",
              "      <script>\n",
              "        const buttonEl =\n",
              "          document.querySelector('#df-383abe4e-da29-40ea-823a-bfd24f6940c8 button.colab-df-convert');\n",
              "        buttonEl.style.display =\n",
              "          google.colab.kernel.accessAllowed ? 'block' : 'none';\n",
              "\n",
              "        async function convertToInteractive(key) {\n",
              "          const element = document.querySelector('#df-383abe4e-da29-40ea-823a-bfd24f6940c8');\n",
              "          const dataTable =\n",
              "            await google.colab.kernel.invokeFunction('convertToInteractive',\n",
              "                                                     [key], {});\n",
              "          if (!dataTable) return;\n",
              "\n",
              "          const docLinkHtml = 'Like what you see? Visit the ' +\n",
              "            '<a target=\"_blank\" href=https://colab.research.google.com/notebooks/data_table.ipynb>data table notebook</a>'\n",
              "            + ' to learn more about interactive tables.';\n",
              "          element.innerHTML = '';\n",
              "          dataTable['output_type'] = 'display_data';\n",
              "          await google.colab.output.renderOutput(dataTable, element);\n",
              "          const docLink = document.createElement('div');\n",
              "          docLink.innerHTML = docLinkHtml;\n",
              "          element.appendChild(docLink);\n",
              "        }\n",
              "      </script>\n",
              "    </div>\n",
              "  </div>\n",
              "  "
            ]
          },
          "metadata": {},
          "execution_count": 83
        }
      ]
    },
    {
      "cell_type": "markdown",
      "source": [
        "# 3.) Clean your data for a decision tree\n"
      ],
      "metadata": {
        "id": "bIJx2jvD-KEI"
      }
    },
    {
      "cell_type": "code",
      "source": [
        "df_select = pd.get_dummies(df_select, columns=[\"job_info_training\"])"
      ],
      "metadata": {
        "id": "l4C_PGnWqAZN"
      },
      "execution_count": null,
      "outputs": []
    },
    {
      "cell_type": "code",
      "source": [
        "type(df_select[\"decision_date\"][0])"
      ],
      "metadata": {
        "id": "bkfqhq4J99A6",
        "colab": {
          "base_uri": "https://localhost:8080/"
        },
        "outputId": "5fdfdd04-6921-447f-ebac-100efb4cbf51"
      },
      "execution_count": null,
      "outputs": [
        {
          "output_type": "execute_result",
          "data": {
            "text/plain": [
              "str"
            ]
          },
          "metadata": {},
          "execution_count": 85
        }
      ]
    },
    {
      "cell_type": "code",
      "source": [
        "# create new variable for decision time\n",
        "df_select[\"decision_date\"] = pd.to_datetime(df_select[\"decision_date\"])\n",
        "df_select[\"case_received_date\"] = pd.to_datetime(df_select[\"case_received_date\"])\n",
        "df_select[\"decision_time\"] = df_select[\"decision_date\"] - df_select[\"case_received_date\"]"
      ],
      "metadata": {
        "id": "z3qBkgjZrngB"
      },
      "execution_count": null,
      "outputs": []
    },
    {
      "cell_type": "code",
      "source": [
        "df_select['decision_time'] = pd.to_numeric(df_select['decision_time'].dt.days, downcast='integer')\n",
        "df_select=df_select.dropna()\n",
        "df_select=df_select.drop(columns=['case_received_date', 'decision_date'])"
      ],
      "metadata": {
        "id": "4GvhU8UN99DR"
      },
      "execution_count": null,
      "outputs": []
    },
    {
      "cell_type": "code",
      "source": [
        "df_select.tail()"
      ],
      "metadata": {
        "colab": {
          "base_uri": "https://localhost:8080/",
          "height": 206
        },
        "id": "RG7E-B2csByv",
        "outputId": "e55d4dcd-3b83-433e-f6b8-ebc6efc82f4f"
      },
      "execution_count": null,
      "outputs": [
        {
          "output_type": "execute_result",
          "data": {
            "text/plain": [
              "       wage_offer_from_9089 case_status  job_info_training_N  \\\n",
              "374357            28,330.00   Withdrawn                    1   \n",
              "374358           122,000.00   Withdrawn                    1   \n",
              "374359            79,082.00   Withdrawn                    1   \n",
              "374360            37,981.00   Withdrawn                    1   \n",
              "374361            84,926.00   Withdrawn                    1   \n",
              "\n",
              "        job_info_training_Y  decision_time  \n",
              "374357                    0            1.0  \n",
              "374358                    0            0.0  \n",
              "374359                    0            0.0  \n",
              "374360                    0            0.0  \n",
              "374361                    0            0.0  "
            ],
            "text/html": [
              "\n",
              "  <div id=\"df-0dcf4a31-8ef2-4d98-999a-8bf7e17a0496\">\n",
              "    <div class=\"colab-df-container\">\n",
              "      <div>\n",
              "<style scoped>\n",
              "    .dataframe tbody tr th:only-of-type {\n",
              "        vertical-align: middle;\n",
              "    }\n",
              "\n",
              "    .dataframe tbody tr th {\n",
              "        vertical-align: top;\n",
              "    }\n",
              "\n",
              "    .dataframe thead th {\n",
              "        text-align: right;\n",
              "    }\n",
              "</style>\n",
              "<table border=\"1\" class=\"dataframe\">\n",
              "  <thead>\n",
              "    <tr style=\"text-align: right;\">\n",
              "      <th></th>\n",
              "      <th>wage_offer_from_9089</th>\n",
              "      <th>case_status</th>\n",
              "      <th>job_info_training_N</th>\n",
              "      <th>job_info_training_Y</th>\n",
              "      <th>decision_time</th>\n",
              "    </tr>\n",
              "  </thead>\n",
              "  <tbody>\n",
              "    <tr>\n",
              "      <th>374357</th>\n",
              "      <td>28,330.00</td>\n",
              "      <td>Withdrawn</td>\n",
              "      <td>1</td>\n",
              "      <td>0</td>\n",
              "      <td>1.0</td>\n",
              "    </tr>\n",
              "    <tr>\n",
              "      <th>374358</th>\n",
              "      <td>122,000.00</td>\n",
              "      <td>Withdrawn</td>\n",
              "      <td>1</td>\n",
              "      <td>0</td>\n",
              "      <td>0.0</td>\n",
              "    </tr>\n",
              "    <tr>\n",
              "      <th>374359</th>\n",
              "      <td>79,082.00</td>\n",
              "      <td>Withdrawn</td>\n",
              "      <td>1</td>\n",
              "      <td>0</td>\n",
              "      <td>0.0</td>\n",
              "    </tr>\n",
              "    <tr>\n",
              "      <th>374360</th>\n",
              "      <td>37,981.00</td>\n",
              "      <td>Withdrawn</td>\n",
              "      <td>1</td>\n",
              "      <td>0</td>\n",
              "      <td>0.0</td>\n",
              "    </tr>\n",
              "    <tr>\n",
              "      <th>374361</th>\n",
              "      <td>84,926.00</td>\n",
              "      <td>Withdrawn</td>\n",
              "      <td>1</td>\n",
              "      <td>0</td>\n",
              "      <td>0.0</td>\n",
              "    </tr>\n",
              "  </tbody>\n",
              "</table>\n",
              "</div>\n",
              "      <button class=\"colab-df-convert\" onclick=\"convertToInteractive('df-0dcf4a31-8ef2-4d98-999a-8bf7e17a0496')\"\n",
              "              title=\"Convert this dataframe to an interactive table.\"\n",
              "              style=\"display:none;\">\n",
              "        \n",
              "  <svg xmlns=\"http://www.w3.org/2000/svg\" height=\"24px\"viewBox=\"0 0 24 24\"\n",
              "       width=\"24px\">\n",
              "    <path d=\"M0 0h24v24H0V0z\" fill=\"none\"/>\n",
              "    <path d=\"M18.56 5.44l.94 2.06.94-2.06 2.06-.94-2.06-.94-.94-2.06-.94 2.06-2.06.94zm-11 1L8.5 8.5l.94-2.06 2.06-.94-2.06-.94L8.5 2.5l-.94 2.06-2.06.94zm10 10l.94 2.06.94-2.06 2.06-.94-2.06-.94-.94-2.06-.94 2.06-2.06.94z\"/><path d=\"M17.41 7.96l-1.37-1.37c-.4-.4-.92-.59-1.43-.59-.52 0-1.04.2-1.43.59L10.3 9.45l-7.72 7.72c-.78.78-.78 2.05 0 2.83L4 21.41c.39.39.9.59 1.41.59.51 0 1.02-.2 1.41-.59l7.78-7.78 2.81-2.81c.8-.78.8-2.07 0-2.86zM5.41 20L4 18.59l7.72-7.72 1.47 1.35L5.41 20z\"/>\n",
              "  </svg>\n",
              "      </button>\n",
              "      \n",
              "  <style>\n",
              "    .colab-df-container {\n",
              "      display:flex;\n",
              "      flex-wrap:wrap;\n",
              "      gap: 12px;\n",
              "    }\n",
              "\n",
              "    .colab-df-convert {\n",
              "      background-color: #E8F0FE;\n",
              "      border: none;\n",
              "      border-radius: 50%;\n",
              "      cursor: pointer;\n",
              "      display: none;\n",
              "      fill: #1967D2;\n",
              "      height: 32px;\n",
              "      padding: 0 0 0 0;\n",
              "      width: 32px;\n",
              "    }\n",
              "\n",
              "    .colab-df-convert:hover {\n",
              "      background-color: #E2EBFA;\n",
              "      box-shadow: 0px 1px 2px rgba(60, 64, 67, 0.3), 0px 1px 3px 1px rgba(60, 64, 67, 0.15);\n",
              "      fill: #174EA6;\n",
              "    }\n",
              "\n",
              "    [theme=dark] .colab-df-convert {\n",
              "      background-color: #3B4455;\n",
              "      fill: #D2E3FC;\n",
              "    }\n",
              "\n",
              "    [theme=dark] .colab-df-convert:hover {\n",
              "      background-color: #434B5C;\n",
              "      box-shadow: 0px 1px 3px 1px rgba(0, 0, 0, 0.15);\n",
              "      filter: drop-shadow(0px 1px 2px rgba(0, 0, 0, 0.3));\n",
              "      fill: #FFFFFF;\n",
              "    }\n",
              "  </style>\n",
              "\n",
              "      <script>\n",
              "        const buttonEl =\n",
              "          document.querySelector('#df-0dcf4a31-8ef2-4d98-999a-8bf7e17a0496 button.colab-df-convert');\n",
              "        buttonEl.style.display =\n",
              "          google.colab.kernel.accessAllowed ? 'block' : 'none';\n",
              "\n",
              "        async function convertToInteractive(key) {\n",
              "          const element = document.querySelector('#df-0dcf4a31-8ef2-4d98-999a-8bf7e17a0496');\n",
              "          const dataTable =\n",
              "            await google.colab.kernel.invokeFunction('convertToInteractive',\n",
              "                                                     [key], {});\n",
              "          if (!dataTable) return;\n",
              "\n",
              "          const docLinkHtml = 'Like what you see? Visit the ' +\n",
              "            '<a target=\"_blank\" href=https://colab.research.google.com/notebooks/data_table.ipynb>data table notebook</a>'\n",
              "            + ' to learn more about interactive tables.';\n",
              "          element.innerHTML = '';\n",
              "          dataTable['output_type'] = 'display_data';\n",
              "          await google.colab.output.renderOutput(dataTable, element);\n",
              "          const docLink = document.createElement('div');\n",
              "          docLink.innerHTML = docLinkHtml;\n",
              "          element.appendChild(docLink);\n",
              "        }\n",
              "      </script>\n",
              "    </div>\n",
              "  </div>\n",
              "  "
            ]
          },
          "metadata": {},
          "execution_count": 88
        }
      ]
    },
    {
      "cell_type": "code",
      "source": [
        "for i in df_select['decision_time']:\n",
        "  if i < 0:\n",
        "    df_select['decision_time'].drop([i])"
      ],
      "metadata": {
        "id": "PUVOKRal95x0"
      },
      "execution_count": null,
      "outputs": []
    },
    {
      "cell_type": "code",
      "source": [
        "type(df_select['wage_offer_from_9089'][374357])"
      ],
      "metadata": {
        "colab": {
          "base_uri": "https://localhost:8080/"
        },
        "id": "7xmWSxWYD_Lu",
        "outputId": "a73d586f-a17d-4490-822f-4c8a7b8f85d1"
      },
      "execution_count": null,
      "outputs": [
        {
          "output_type": "execute_result",
          "data": {
            "text/plain": [
              "str"
            ]
          },
          "metadata": {},
          "execution_count": 90
        }
      ]
    },
    {
      "cell_type": "code",
      "source": [
        "df_select['wage_offer_from_9089'] = df_select['wage_offer_from_9089'].str.replace(',','')"
      ],
      "metadata": {
        "id": "nB7RA8xW5Wkt"
      },
      "execution_count": null,
      "outputs": []
    },
    {
      "cell_type": "code",
      "source": [
        "df_select['wage_offer_from_9089'] = df_select['wage_offer_from_9089'].str.extract('(\\d+)', expand=False)\n",
        "df_select['wage_offer_from_9089'] = df_select['wage_offer_from_9089'].fillna(0)"
      ],
      "metadata": {
        "id": "zpWbBuKn7z6F"
      },
      "execution_count": null,
      "outputs": []
    },
    {
      "cell_type": "code",
      "source": [
        "#df_select['wage_offer_from_9089'] = df_select['wage_offer_from_9089'].astype(int)\n",
        "df_select['wage_offer_from_9089'].astype(float).astype(int)"
      ],
      "metadata": {
        "colab": {
          "base_uri": "https://localhost:8080/"
        },
        "id": "AAETjxowC64W",
        "outputId": "c3aca61f-c9ab-47fd-8ad4-c0aac4c056b0"
      },
      "execution_count": null,
      "outputs": [
        {
          "output_type": "execute_result",
          "data": {
            "text/plain": [
              "135269     90000\n",
              "135270     16973\n",
              "135271     65000\n",
              "135272     43514\n",
              "135273     16973\n",
              "           ...  \n",
              "374357     28330\n",
              "374358    122000\n",
              "374359     79082\n",
              "374360     37981\n",
              "374361     84926\n",
              "Name: wage_offer_from_9089, Length: 239017, dtype: int64"
            ]
          },
          "metadata": {},
          "execution_count": 93
        }
      ]
    },
    {
      "cell_type": "code",
      "source": [
        "df_select.describe()"
      ],
      "metadata": {
        "id": "D7n_cImg99F3",
        "colab": {
          "base_uri": "https://localhost:8080/",
          "height": 301
        },
        "outputId": "343ebd01-7f63-4d7f-fd7a-fd84e71e8717"
      },
      "execution_count": null,
      "outputs": [
        {
          "output_type": "execute_result",
          "data": {
            "text/plain": [
              "       job_info_training_N  job_info_training_Y  decision_time\n",
              "count        239017.000000        239017.000000  239017.000000\n",
              "mean              0.981457             0.018480     208.122866\n",
              "std               0.134903             0.134679     200.102755\n",
              "min               0.000000             0.000000       0.000000\n",
              "25%               1.000000             0.000000     109.000000\n",
              "50%               1.000000             0.000000     161.000000\n",
              "75%               1.000000             0.000000     205.000000\n",
              "max               1.000000             1.000000    3413.000000"
            ],
            "text/html": [
              "\n",
              "  <div id=\"df-54e2aee1-fae6-4cb0-bce3-536d4d118468\">\n",
              "    <div class=\"colab-df-container\">\n",
              "      <div>\n",
              "<style scoped>\n",
              "    .dataframe tbody tr th:only-of-type {\n",
              "        vertical-align: middle;\n",
              "    }\n",
              "\n",
              "    .dataframe tbody tr th {\n",
              "        vertical-align: top;\n",
              "    }\n",
              "\n",
              "    .dataframe thead th {\n",
              "        text-align: right;\n",
              "    }\n",
              "</style>\n",
              "<table border=\"1\" class=\"dataframe\">\n",
              "  <thead>\n",
              "    <tr style=\"text-align: right;\">\n",
              "      <th></th>\n",
              "      <th>job_info_training_N</th>\n",
              "      <th>job_info_training_Y</th>\n",
              "      <th>decision_time</th>\n",
              "    </tr>\n",
              "  </thead>\n",
              "  <tbody>\n",
              "    <tr>\n",
              "      <th>count</th>\n",
              "      <td>239017.000000</td>\n",
              "      <td>239017.000000</td>\n",
              "      <td>239017.000000</td>\n",
              "    </tr>\n",
              "    <tr>\n",
              "      <th>mean</th>\n",
              "      <td>0.981457</td>\n",
              "      <td>0.018480</td>\n",
              "      <td>208.122866</td>\n",
              "    </tr>\n",
              "    <tr>\n",
              "      <th>std</th>\n",
              "      <td>0.134903</td>\n",
              "      <td>0.134679</td>\n",
              "      <td>200.102755</td>\n",
              "    </tr>\n",
              "    <tr>\n",
              "      <th>min</th>\n",
              "      <td>0.000000</td>\n",
              "      <td>0.000000</td>\n",
              "      <td>0.000000</td>\n",
              "    </tr>\n",
              "    <tr>\n",
              "      <th>25%</th>\n",
              "      <td>1.000000</td>\n",
              "      <td>0.000000</td>\n",
              "      <td>109.000000</td>\n",
              "    </tr>\n",
              "    <tr>\n",
              "      <th>50%</th>\n",
              "      <td>1.000000</td>\n",
              "      <td>0.000000</td>\n",
              "      <td>161.000000</td>\n",
              "    </tr>\n",
              "    <tr>\n",
              "      <th>75%</th>\n",
              "      <td>1.000000</td>\n",
              "      <td>0.000000</td>\n",
              "      <td>205.000000</td>\n",
              "    </tr>\n",
              "    <tr>\n",
              "      <th>max</th>\n",
              "      <td>1.000000</td>\n",
              "      <td>1.000000</td>\n",
              "      <td>3413.000000</td>\n",
              "    </tr>\n",
              "  </tbody>\n",
              "</table>\n",
              "</div>\n",
              "      <button class=\"colab-df-convert\" onclick=\"convertToInteractive('df-54e2aee1-fae6-4cb0-bce3-536d4d118468')\"\n",
              "              title=\"Convert this dataframe to an interactive table.\"\n",
              "              style=\"display:none;\">\n",
              "        \n",
              "  <svg xmlns=\"http://www.w3.org/2000/svg\" height=\"24px\"viewBox=\"0 0 24 24\"\n",
              "       width=\"24px\">\n",
              "    <path d=\"M0 0h24v24H0V0z\" fill=\"none\"/>\n",
              "    <path d=\"M18.56 5.44l.94 2.06.94-2.06 2.06-.94-2.06-.94-.94-2.06-.94 2.06-2.06.94zm-11 1L8.5 8.5l.94-2.06 2.06-.94-2.06-.94L8.5 2.5l-.94 2.06-2.06.94zm10 10l.94 2.06.94-2.06 2.06-.94-2.06-.94-.94-2.06-.94 2.06-2.06.94z\"/><path d=\"M17.41 7.96l-1.37-1.37c-.4-.4-.92-.59-1.43-.59-.52 0-1.04.2-1.43.59L10.3 9.45l-7.72 7.72c-.78.78-.78 2.05 0 2.83L4 21.41c.39.39.9.59 1.41.59.51 0 1.02-.2 1.41-.59l7.78-7.78 2.81-2.81c.8-.78.8-2.07 0-2.86zM5.41 20L4 18.59l7.72-7.72 1.47 1.35L5.41 20z\"/>\n",
              "  </svg>\n",
              "      </button>\n",
              "      \n",
              "  <style>\n",
              "    .colab-df-container {\n",
              "      display:flex;\n",
              "      flex-wrap:wrap;\n",
              "      gap: 12px;\n",
              "    }\n",
              "\n",
              "    .colab-df-convert {\n",
              "      background-color: #E8F0FE;\n",
              "      border: none;\n",
              "      border-radius: 50%;\n",
              "      cursor: pointer;\n",
              "      display: none;\n",
              "      fill: #1967D2;\n",
              "      height: 32px;\n",
              "      padding: 0 0 0 0;\n",
              "      width: 32px;\n",
              "    }\n",
              "\n",
              "    .colab-df-convert:hover {\n",
              "      background-color: #E2EBFA;\n",
              "      box-shadow: 0px 1px 2px rgba(60, 64, 67, 0.3), 0px 1px 3px 1px rgba(60, 64, 67, 0.15);\n",
              "      fill: #174EA6;\n",
              "    }\n",
              "\n",
              "    [theme=dark] .colab-df-convert {\n",
              "      background-color: #3B4455;\n",
              "      fill: #D2E3FC;\n",
              "    }\n",
              "\n",
              "    [theme=dark] .colab-df-convert:hover {\n",
              "      background-color: #434B5C;\n",
              "      box-shadow: 0px 1px 3px 1px rgba(0, 0, 0, 0.15);\n",
              "      filter: drop-shadow(0px 1px 2px rgba(0, 0, 0, 0.3));\n",
              "      fill: #FFFFFF;\n",
              "    }\n",
              "  </style>\n",
              "\n",
              "      <script>\n",
              "        const buttonEl =\n",
              "          document.querySelector('#df-54e2aee1-fae6-4cb0-bce3-536d4d118468 button.colab-df-convert');\n",
              "        buttonEl.style.display =\n",
              "          google.colab.kernel.accessAllowed ? 'block' : 'none';\n",
              "\n",
              "        async function convertToInteractive(key) {\n",
              "          const element = document.querySelector('#df-54e2aee1-fae6-4cb0-bce3-536d4d118468');\n",
              "          const dataTable =\n",
              "            await google.colab.kernel.invokeFunction('convertToInteractive',\n",
              "                                                     [key], {});\n",
              "          if (!dataTable) return;\n",
              "\n",
              "          const docLinkHtml = 'Like what you see? Visit the ' +\n",
              "            '<a target=\"_blank\" href=https://colab.research.google.com/notebooks/data_table.ipynb>data table notebook</a>'\n",
              "            + ' to learn more about interactive tables.';\n",
              "          element.innerHTML = '';\n",
              "          dataTable['output_type'] = 'display_data';\n",
              "          await google.colab.output.renderOutput(dataTable, element);\n",
              "          const docLink = document.createElement('div');\n",
              "          docLink.innerHTML = docLinkHtml;\n",
              "          element.appendChild(docLink);\n",
              "        }\n",
              "      </script>\n",
              "    </div>\n",
              "  </div>\n",
              "  "
            ]
          },
          "metadata": {},
          "execution_count": 94
        }
      ]
    },
    {
      "cell_type": "code",
      "source": [
        "df_select['wage_offer_from_9089'].describe()"
      ],
      "metadata": {
        "colab": {
          "base_uri": "https://localhost:8080/"
        },
        "id": "CP86A_2jEjvT",
        "outputId": "b5979f99-ef4e-40eb-e8d3-9a0725a802a4"
      },
      "execution_count": null,
      "outputs": [
        {
          "output_type": "execute_result",
          "data": {
            "text/plain": [
              "count     239017\n",
              "unique     16118\n",
              "top            0\n",
              "freq      122840\n",
              "Name: wage_offer_from_9089, dtype: int64"
            ]
          },
          "metadata": {},
          "execution_count": 95
        }
      ]
    },
    {
      "cell_type": "code",
      "source": [
        "x = df_select\n",
        "x = x.drop(['case_status'], axis=1)\n",
        "y = df_select['case_status']"
      ],
      "metadata": {
        "id": "xQE60rwv98_F"
      },
      "execution_count": null,
      "outputs": []
    },
    {
      "cell_type": "markdown",
      "source": [
        "# 4.) Fit and plot a decision tree of depth 3\n"
      ],
      "metadata": {
        "id": "PeurmqI4-OoC"
      }
    },
    {
      "cell_type": "code",
      "source": [
        "from sklearn import tree\n",
        "\n",
        "clf = tree.DecisionTreeClassifier(max_depth = 3)\n",
        "clf = clf.fit(x, y)"
      ],
      "metadata": {
        "id": "udwK0byx-RLA"
      },
      "execution_count": null,
      "outputs": []
    },
    {
      "cell_type": "code",
      "source": [
        "plt.figure(figsize = (20,8))\n",
        "tree.plot_tree(clf, feature_names = x.columns)"
      ],
      "metadata": {
        "colab": {
          "base_uri": "https://localhost:8080/",
          "height": 726
        },
        "id": "nb99_UN6vBXf",
        "outputId": "dfe6d7af-7077-482d-c1f2-4d0b2fbc7aa5"
      },
      "execution_count": null,
      "outputs": [
        {
          "output_type": "execute_result",
          "data": {
            "text/plain": [
              "[Text(0.5, 0.875, 'decision_time <= 133.5\\ngini = 0.579\\nsamples = 239017\\nvalue = [120969, 95568, 12711, 9769]'),\n",
              " Text(0.25, 0.625, 'decision_time <= 42.5\\ngini = 0.244\\nsamples = 74774\\nvalue = [64583, 999, 2043, 7149]'),\n",
              " Text(0.125, 0.375, 'decision_time <= 33.5\\ngini = 0.224\\nsamples = 6133\\nvalue = [80, 0, 696, 5357]'),\n",
              " Text(0.0625, 0.125, 'gini = 0.191\\nsamples = 5652\\nvalue = [8, 0, 594, 5050]'),\n",
              " Text(0.1875, 0.125, 'gini = 0.525\\nsamples = 481\\nvalue = [72, 0, 102, 307]'),\n",
              " Text(0.375, 0.375, 'decision_time <= 127.5\\ngini = 0.116\\nsamples = 68641\\nvalue = [64503, 999, 1347, 1792]'),\n",
              " Text(0.3125, 0.125, 'gini = 0.094\\nsamples = 65262\\nvalue = [62076, 203, 1284, 1699]'),\n",
              " Text(0.4375, 0.125, 'gini = 0.428\\nsamples = 3379\\nvalue = [2427, 796, 63, 93]'),\n",
              " Text(0.75, 0.625, 'decision_time <= 191.5\\ngini = 0.546\\nsamples = 164243\\nvalue = [56386, 94569, 10668, 2620]'),\n",
              " Text(0.625, 0.375, 'wage_offer_from_9089 <= 3.5\\ngini = 0.377\\nsamples = 87035\\nvalue = [19507, 65865, 851, 812]'),\n",
              " Text(0.5625, 0.125, 'gini = 0.31\\nsamples = 46675\\nvalue = [7824, 37957, 504, 390]'),\n",
              " Text(0.6875, 0.125, 'gini = 0.438\\nsamples = 40360\\nvalue = [11683, 27908, 347, 422]'),\n",
              " Text(0.875, 0.375, 'wage_offer_from_9089 <= 3.5\\ngini = 0.617\\nsamples = 77208\\nvalue = [36879, 28704, 9817, 1808]'),\n",
              " Text(0.8125, 0.125, 'gini = 0.535\\nsamples = 26822\\nvalue = [5245, 17061, 3904, 612]'),\n",
              " Text(0.9375, 0.125, 'gini = 0.538\\nsamples = 50386\\nvalue = [31634, 11643, 5913, 1196]')]"
            ]
          },
          "metadata": {},
          "execution_count": 102
        },
        {
          "output_type": "display_data",
          "data": {
            "text/plain": [
              "<Figure size 1440x576 with 1 Axes>"
            ],
            "image/png": "[encoded data removed]"
          },
          "metadata": {
            "needs_background": "light"
          }
        }
      ]
    },
    {
      "cell_type": "code",
      "source": [
        "?tree.plot_tree"
      ],
      "metadata": {
        "id": "XL1VFxmlvOVu"
      },
      "execution_count": null,
      "outputs": []
    },
    {
      "cell_type": "markdown",
      "source": [
        "# 5.) Write your interpretation of the largest (by sample size) leaf node\n"
      ],
      "metadata": {
        "id": "6isBwtmL-R4p"
      }
    },
    {
      "cell_type": "code",
      "source": [
        "# if they are not certified...... num samples in each category"
      ],
      "metadata": {
        "id": "yg5gjVpMvmIy"
      },
      "execution_count": null,
      "outputs": []
    },
    {
      "cell_type": "code",
      "source": [],
      "metadata": {
        "id": "sgDPicU8IvPv"
      },
      "execution_count": null,
      "outputs": []
    },
    {
      "cell_type": "code",
      "source": [],
      "metadata": {
        "id": "5gAU63Wc-RWN"
      },
      "execution_count": null,
      "outputs": []
    },
    {
      "cell_type": "markdown",
      "source": [
        "# 6.) Using a for loop, make your own train-test split and determine the best max_depth for out-of sample accuracy"
      ],
      "metadata": {
        "id": "aQa3sanl-XUk"
      }
    },
    {
      "cell_type": "code",
      "source": [
        "from sklearn.model_selection import train_test_split\n",
        "X_train, X_test, y_train, y_test = train_test_split(x,y, test_size=.3)"
      ],
      "metadata": {
        "id": "9QA-y6HCslBR"
      },
      "execution_count": null,
      "outputs": []
    },
    {
      "cell_type": "code",
      "source": [
        "max_depths = [1,2,3]\n",
        "outputs = []\n",
        "\n",
        "for md in max_depths:\n",
        "  clf = tree.DecisionTreeClassifier(max_depth = 3)\n",
        "  clf = clf.fit(X_train, y_train)\n",
        "  accuracy = 0 # calculate oos accuracy\n",
        "  outputs.append(outofsample_accuracy)"
      ],
      "metadata": {
        "id": "vVaHpqf9wHj7"
      },
      "execution_count": null,
      "outputs": []
    },
    {
      "cell_type": "code",
      "source": [],
      "metadata": {
        "id": "YphNDj12aFhP"
      },
      "execution_count": null,
      "outputs": []
    },
    {
      "cell_type": "code",
      "source": [],
      "metadata": {
        "id": "Em8NfyB_JeMs"
      },
      "execution_count": null,
      "outputs": []
    }
  ]
}